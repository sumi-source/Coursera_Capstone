{
 "cells": [
  {
   "cell_type": "markdown",
   "metadata": {},
   "source": [
    "# Project Title: Deciding on a venue for new hotel opening in New York and Canada."
   ]
  },
  {
   "cell_type": "markdown",
   "metadata": {},
   "source": [
    "# PROBLEM & BACKGROUND\n",
    "\n",
    "- Toronto and New York are the famous places in the world. They are diverse in many ways. Both are multicultural as well as the financial hubs of their respective countries. We want to explore how much they are similar or dissimilar in aspects from a hotel business point of view regarding food, accommodation, beautiful places, and best place to open a hotel in both the places.\n",
    "\n",
    "- Today Hotel business is one of the pillars of the economy and the people most often visits these countries who are rich in heritage and developed enough from a foreign prospective.therefor finding a venue for business is an important key point.\n",
    "\n",
    "- Every city is unique in their own way and give something new. And now the information is so common regarding location of every place around the world on your fingertips which make it easier to explore. \n",
    "\n",
    "- Therefore, Customer always eager to visit to different places on the basis of available information, and the comparison (the part of the information) between the two to find out the best place in Canada and new York to open a hotel and gain maximum profit with less investment"
   ]
  },
  {
   "cell_type": "markdown",
   "metadata": {},
   "source": [
    "# DATA DESCRIPTION\n",
    "\n",
    "- For this problem, we will get the services of Foursquare API to explore the data of two cities, in terms of their neighborhoods. The data also include the information about the places around each neighborhood like existing restaurants, hotels, coffee shops, parks, theaters, art galleries, museums and many more. \n",
    "\n",
    "- We selected one Borough from each city to analyze their neighborhoods. Manhattan from New York and Downtown Toronto from Toronto. \n",
    "\n",
    "- We will use machine learning technique, “Clustering” to segment the neighborhoods with similar objects on the basis of each neighborhood data. These objects will be given priority on the basis of foot traffic (activity) in their respective neighborhoods. This will help to locate the best areas and hubs, and then we can judge the similarity or dissimilarity between two cities on that basis.\n",
    "\n",
    "- 'https://en.wikipedia.org/wiki/List_of_postal_codes_of_Canada:_M' for canada neighbourhood\n",
    "\n",
    "- geospatial-coordinates-toronto/Geospatial_Coordinates.csv\" for latidtude and longitude.\n",
    "\n",
    "- neighborhoods_NY.csv Analyze Borough and neighborhoods for Manhattan"
   ]
  },
  {
   "cell_type": "code",
   "execution_count": null,
   "metadata": {},
   "outputs": [],
   "source": []
  }
 ],
 "metadata": {
  "kernelspec": {
   "display_name": "Python 3",
   "language": "python",
   "name": "python3"
  },
  "language_info": {
   "codemirror_mode": {
    "name": "ipython",
    "version": 3
   },
   "file_extension": ".py",
   "mimetype": "text/x-python",
   "name": "python",
   "nbconvert_exporter": "python",
   "pygments_lexer": "ipython3",
   "version": "3.7.4"
  }
 },
 "nbformat": 4,
 "nbformat_minor": 2
}
